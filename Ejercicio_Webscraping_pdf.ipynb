{
 "cells": [
  {
   "cell_type": "markdown",
   "metadata": {},
   "source": [
    "<h1>Web Scraping de los perfiles de cargo de la Convocatoria de la Contraloría 2024-2026</h1>\n"
   ]
  },
  {
   "cell_type": "markdown",
   "metadata": {},
   "source": [
    "https://concursocgr2024-2026.com.co/#/convocatorias/listado"
   ]
  },
  {
   "cell_type": "markdown",
   "metadata": {},
   "source": []
  },
  {
   "cell_type": "markdown",
   "metadata": {},
   "source": [
    "!pip install PyPDF2"
   ]
  },
  {
   "cell_type": "code",
   "execution_count": null,
   "metadata": {},
   "outputs": [],
   "source": [
    "\n",
    "#import PyPDF2\n",
    "import re\n",
    "import pandas as pd\n"
   ]
  },
  {
   "cell_type": "markdown",
   "metadata": {},
   "source": [
    "En Python, puedes ignorar las advertencias mediante el módulo Warnings. Puedes usar la función filterwarnings para filtrar o ignorar mensajes o categorías de advertencias específicas."
   ]
  },
  {
   "cell_type": "code",
   "execution_count": 3,
   "metadata": {},
   "outputs": [],
   "source": [
    "import warnings\n",
    "# Ignore all warnings\n",
    "warnings.filterwarnings(\"ignore\", category=FutureWarning)"
   ]
  },
  {
   "cell_type": "markdown",
   "metadata": {},
   "source": [
    "Carga el numero de cada perfil de convocatoria"
   ]
  },
  {
   "cell_type": "code",
   "execution_count": 4,
   "metadata": {},
   "outputs": [
    {
     "data": {
      "text/html": [
       "<div>\n",
       "<style scoped>\n",
       "    .dataframe tbody tr th:only-of-type {\n",
       "        vertical-align: middle;\n",
       "    }\n",
       "\n",
       "    .dataframe tbody tr th {\n",
       "        vertical-align: top;\n",
       "    }\n",
       "\n",
       "    .dataframe thead th {\n",
       "        text-align: right;\n",
       "    }\n",
       "</style>\n",
       "<table border=\"1\" class=\"dataframe\">\n",
       "  <thead>\n",
       "    <tr style=\"text-align: right;\">\n",
       "      <th></th>\n",
       "      <th>numero</th>\n",
       "    </tr>\n",
       "  </thead>\n",
       "  <tbody>\n",
       "    <tr>\n",
       "      <th>0</th>\n",
       "      <td>039-25</td>\n",
       "    </tr>\n",
       "    <tr>\n",
       "      <th>1</th>\n",
       "      <td>043-25</td>\n",
       "    </tr>\n",
       "    <tr>\n",
       "      <th>2</th>\n",
       "      <td>048-25</td>\n",
       "    </tr>\n",
       "    <tr>\n",
       "      <th>3</th>\n",
       "      <td>060-25</td>\n",
       "    </tr>\n",
       "    <tr>\n",
       "      <th>4</th>\n",
       "      <td>061-25</td>\n",
       "    </tr>\n",
       "    <tr>\n",
       "      <th>5</th>\n",
       "      <td>071-25</td>\n",
       "    </tr>\n",
       "    <tr>\n",
       "      <th>6</th>\n",
       "      <td>080-25</td>\n",
       "    </tr>\n",
       "    <tr>\n",
       "      <th>7</th>\n",
       "      <td>100-25</td>\n",
       "    </tr>\n",
       "    <tr>\n",
       "      <th>8</th>\n",
       "      <td>113-25</td>\n",
       "    </tr>\n",
       "    <tr>\n",
       "      <th>9</th>\n",
       "      <td>116-25</td>\n",
       "    </tr>\n",
       "  </tbody>\n",
       "</table>\n",
       "</div>"
      ],
      "text/plain": [
       "   numero\n",
       "0  039-25\n",
       "1  043-25\n",
       "2  048-25\n",
       "3  060-25\n",
       "4  061-25\n",
       "5  071-25\n",
       "6  080-25\n",
       "7  100-25\n",
       "8  113-25\n",
       "9  116-25"
      ]
     },
     "execution_count": 4,
     "metadata": {},
     "output_type": "execute_result"
    }
   ],
   "source": [
    "df = pd.read_csv(\"numero_convocatoria.csv\")\n",
    "df.head(10)\n"
   ]
  },
  {
   "cell_type": "markdown",
   "metadata": {},
   "source": [
    "Baja de la web de la convocatoria, guarda en el PC, busca y calcula la frecuencia de apariciones de la palabra en cada perfil"
   ]
  },
  {
   "cell_type": "code",
   "execution_count": 5,
   "metadata": {},
   "outputs": [
    {
     "name": "stdout",
     "output_type": "stream",
     "text": [
      "la convocatoria 039-25 tiene 444 palabras\n",
      "la palabra \"datos\" se repite 1 veces en el archivo 039-25\n",
      "la convocatoria 043-25 tiene 445 palabras\n",
      "la palabra \"datos\" se repite 1 veces en el archivo 043-25\n",
      "la convocatoria 048-25 tiene 407 palabras\n",
      "la palabra \"datos\" se repite 1 veces en el archivo 048-25\n",
      "la convocatoria 060-25 tiene 469 palabras\n",
      "la palabra \"datos\" se repite 1 veces en el archivo 060-25\n",
      "la convocatoria 061-25 tiene 474 palabras\n",
      "la palabra \"datos\" se repite 1 veces en el archivo 061-25\n",
      "la convocatoria 071-25 tiene 407 palabras\n",
      "la palabra \"datos\" se repite 1 veces en el archivo 071-25\n",
      "la convocatoria 080-25 tiene 354 palabras\n",
      "la palabra \"datos\" se repite 1 veces en el archivo 080-25\n",
      "la convocatoria 100-25 tiene 354 palabras\n",
      "la palabra \"datos\" se repite 1 veces en el archivo 100-25\n",
      "la convocatoria 113-25 tiene 313 palabras\n",
      "la palabra \"datos\" se repite 0 veces en el archivo 113-25\n",
      "la convocatoria 116-25 tiene 535 palabras\n",
      "la palabra \"datos\" se repite 0 veces en el archivo 116-25\n",
      "la convocatoria 193-25 tiene 331 palabras\n",
      "la palabra \"datos\" se repite 0 veces en el archivo 193-25\n",
      "la convocatoria 337-25 tiene 528 palabras\n",
      "la palabra \"datos\" se repite 4 veces en el archivo 337-25\n",
      "la convocatoria 350-25 tiene 514 palabras\n",
      "la palabra \"datos\" se repite 5 veces en el archivo 350-25\n",
      "la convocatoria 361-25 tiene 408 palabras\n",
      "la palabra \"datos\" se repite 2 veces en el archivo 361-25\n",
      "la convocatoria 368-25 tiene 467 palabras\n",
      "la palabra \"datos\" se repite 2 veces en el archivo 368-25\n",
      "la convocatoria 540-25 tiene 434 palabras\n",
      "la palabra \"datos\" se repite 0 veces en el archivo 540-25\n",
      "la convocatoria 014-25 tiene 458 palabras\n",
      "la palabra \"datos\" se repite 0 veces en el archivo 014-25\n",
      "la convocatoria 015-25 tiene 466 palabras\n",
      "la palabra \"datos\" se repite 0 veces en el archivo 015-25\n",
      "la convocatoria 020-25 tiene 723 palabras\n",
      "la palabra \"datos\" se repite 1 veces en el archivo 020-25\n",
      "la convocatoria 122-25 tiene 290 palabras\n",
      "la palabra \"datos\" se repite 0 veces en el archivo 122-25\n",
      "la convocatoria 124-25 tiene 471 palabras\n",
      "la palabra \"datos\" se repite 2 veces en el archivo 124-25\n",
      "la convocatoria 126-25 tiene 288 palabras\n",
      "la palabra \"datos\" se repite 0 veces en el archivo 126-25\n",
      "la convocatoria 128-25 tiene 286 palabras\n",
      "la palabra \"datos\" se repite 0 veces en el archivo 128-25\n",
      "la convocatoria 129-25 tiene 625 palabras\n",
      "la palabra \"datos\" se repite 1 veces en el archivo 129-25\n",
      "la convocatoria 130-25 tiene 364 palabras\n",
      "la palabra \"datos\" se repite 1 veces en el archivo 130-25\n",
      "la convocatoria 133-25 tiene 620 palabras\n",
      "la palabra \"datos\" se repite 1 veces en el archivo 133-25\n",
      "la convocatoria 135-25 tiene 339 palabras\n",
      "la palabra \"datos\" se repite 0 veces en el archivo 135-25\n",
      "la convocatoria 137-25 tiene 343 palabras\n",
      "la palabra \"datos\" se repite 0 veces en el archivo 137-25\n",
      "la convocatoria 138-25 tiene 494 palabras\n",
      "la palabra \"datos\" se repite 0 veces en el archivo 138-25\n",
      "la convocatoria 319-25 tiene 466 palabras\n",
      "la palabra \"datos\" se repite 4 veces en el archivo 319-25\n",
      "la convocatoria 320-25 tiene 402 palabras\n",
      "la palabra \"datos\" se repite 0 veces en el archivo 320-25\n",
      "la convocatoria 398-25 tiene 422 palabras\n",
      "la palabra \"datos\" se repite 0 veces en el archivo 398-25\n",
      "la convocatoria 399-25 tiene 407 palabras\n",
      "la palabra \"datos\" se repite 0 veces en el archivo 399-25\n",
      "la convocatoria 401-25 tiene 415 palabras\n",
      "la palabra \"datos\" se repite 0 veces en el archivo 401-25\n",
      "la convocatoria 403-25 tiene 409 palabras\n",
      "la palabra \"datos\" se repite 0 veces en el archivo 403-25\n",
      "la convocatoria 404-25 tiene 413 palabras\n",
      "la palabra \"datos\" se repite 0 veces en el archivo 404-25\n",
      "la convocatoria 405-25 tiene 406 palabras\n",
      "la palabra \"datos\" se repite 0 veces en el archivo 405-25\n",
      "la convocatoria 407-25 tiene 415 palabras\n",
      "la palabra \"datos\" se repite 0 veces en el archivo 407-25\n",
      "la convocatoria 408-25 tiene 407 palabras\n",
      "la palabra \"datos\" se repite 0 veces en el archivo 408-25\n",
      "la convocatoria 409-25 tiene 430 palabras\n",
      "la palabra \"datos\" se repite 1 veces en el archivo 409-25\n",
      "la convocatoria 410-25 tiene 407 palabras\n",
      "la palabra \"datos\" se repite 0 veces en el archivo 410-25\n",
      "la convocatoria 412-25 tiene 378 palabras\n",
      "la palabra \"datos\" se repite 0 veces en el archivo 412-25\n",
      "la convocatoria 471-25 tiene 435 palabras\n",
      "la palabra \"datos\" se repite 1 veces en el archivo 471-25\n",
      "la convocatoria 473-25 tiene 429 palabras\n",
      "la palabra \"datos\" se repite 0 veces en el archivo 473-25\n",
      "la convocatoria 504-25 tiene 413 palabras\n",
      "la palabra \"datos\" se repite 0 veces en el archivo 504-25\n",
      "la convocatoria 514-25 tiene 424 palabras\n",
      "la palabra \"datos\" se repite 0 veces en el archivo 514-25\n"
     ]
    }
   ],
   "source": [
    "from urllib.request import urlopen\n",
    "text1 = ()\n",
    "palabra_buscada = input('Escriba una palabra: ')\n",
    "\n",
    "for i in range(len(df)):\n",
    "    numero_conv = df.iloc[i]['numero']\n",
    "    #print(numero_conv)\n",
    "    convocatoria = \"https://concursocgr2024-2026.com.co/statics/convocatorias/\"+ numero_conv +\".pdf\"\n",
    "    #print(convocatoria)\n",
    "    # URL del archivo.\n",
    "    url = convocatoria\n",
    "    r = urlopen(url)\n",
    "    \n",
    "    # Nombre con el que quiero descargar el archivo.\n",
    "    with open(numero_conv+\".pdf\", \"wb\") as f:\n",
    "        f.write(r.read())\n",
    "    r.close()\n",
    "    \n",
    "    with open(numero_conv+\".pdf\", \"rb\") as file:\n",
    "        reader = PyPDF2.PdfReader(file)\n",
    "        page = reader.pages[0]  # Get the first page\n",
    "        text = page.extract_text()\n",
    "        text1 = re.match(r'(([a-zA-Z]{1,4})[0-9]{1,5}())', text)\n",
    "        #print(text)\n",
    "    #print(type(text))\n",
    "    Texto_base = text\n",
    "    #print(type(Texto_base))\n",
    "    text_list = Texto_base.split(' ')\n",
    "    #print(type(text_list))\n",
    "    print(f'la convocatoria {numero_conv} tiene {len(text_list)} palabras')\n",
    "    \n",
    "    count=0\n",
    "    for word in text_list:\n",
    "        if word == palabra_buscada:\n",
    "            count += 1\n",
    "    if word not in text_list:\n",
    "        print(f'la palabra \"{palabra_buscada}\" no se encuentra en el texto')\n",
    "    else:\n",
    "        print(f'la palabra \"{palabra_buscada}\" se repite {count} veces en el archivo {numero_conv}')\n",
    "        \n",
    "    "
   ]
  },
  {
   "cell_type": "markdown",
   "metadata": {},
   "source": [
    "## Authors"
   ]
  },
  {
   "cell_type": "markdown",
   "metadata": {},
   "source": [
    "[Liliana Mendoza](https://www.linkedin.com/in/liliana-adriana-mendoza-saboya/)"
   ]
  }
 ],
 "metadata": {
  "kernelspec": {
   "display_name": "Python 3",
   "language": "python",
   "name": "python3"
  },
  "language_info": {
   "codemirror_mode": {
    "name": "ipython",
    "version": 3
   },
   "file_extension": ".py",
   "mimetype": "text/x-python",
   "name": "python",
   "nbconvert_exporter": "python",
   "pygments_lexer": "ipython3",
   "version": "3.12.3"
  },
  "prev_pub_hash": "859a3e44f83f476f4a7eebb2080d579a6d1c70b8b6980b1136f5fb16f9bf182b"
 },
 "nbformat": 4,
 "nbformat_minor": 4
}
